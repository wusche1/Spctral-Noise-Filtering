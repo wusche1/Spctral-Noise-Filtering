{
 "cells": [
  {
   "cell_type": "code",
   "execution_count": 27,
   "metadata": {},
   "outputs": [
    {
     "name": "stdout",
     "output_type": "stream",
     "text": [
      "0.602016\n",
      "0.602016\n",
      "0.8\n",
      "0.8\n",
      "0.8\n",
      "0.8\n"
     ]
    }
   ],
   "source": [
    "\n",
    "Hydrogel_1_khz_x = r'\\\\134.76.13.158\\betzlab\\Julian\\Hydrogel\\measurement_2\\1_khz\\corr\\x_trajecories.npy'\n",
    "Hydrogel_1_khz_y = r'\\\\134.76.13.158\\betzlab\\Julian\\Hydrogel\\measurement_2\\1_khz\\corr\\y_trajecories.npy'\n",
    "Hydrogel_10_khz_x = r'\\\\134.76.13.158\\betzlab\\Julian\\Hydrogel\\measurement_2\\10_khz\\corr\\x_trajecories.npy'\n",
    "Hydrogel_10_khz_y = r'\\\\134.76.13.158\\betzlab\\Julian\\Hydrogel\\measurement_2\\10_khz\\corr\\y_trajecories.npy'\n",
    "Hydrogel_25_khz_x = r'\\\\134.76.13.158\\betzlab\\Julian\\Hydrogel\\measurement_2\\25_khz\\corr\\x_trajecories.npy'\n",
    "Hydrogel_25_khz_y = r'\\\\134.76.13.158\\betzlab\\Julian\\Hydrogel\\measurement_2\\25_khz\\corr\\y_trajecories.npy'\n",
    "\n",
    "data_paths = [Hydrogel_1_khz_x, Hydrogel_1_khz_y, Hydrogel_10_khz_x, Hydrogel_10_khz_y, Hydrogel_25_khz_x, Hydrogel_25_khz_y]\n",
    "data_names = ['Hydrogel_1_khz_x', 'Hydrogel_1_khz_y', 'Hydrogel_10_khz_x', 'Hydrogel_10_khz_y', 'Hydrogel_25_khz_x', 'Hydrogel_25_khz_y']\n",
    "\n",
    "for data_path, data_name in zip(data_paths, data_names):\n",
    "    data = np.load(data_path)\n",
    "    #print the size of the data in MB\n",
    "    print(data.nbytes/1e6)\n",
    "    np.save(data_name, data)\n",
    "\n"
   ]
  },
  {
   "cell_type": "code",
   "execution_count": 11,
   "metadata": {},
   "outputs": [],
   "source": [
    "import numpy as np\n",
    "from scipy.io import loadmat\n",
    "import os"
   ]
  },
  {
   "cell_type": "code",
   "execution_count": 26,
   "metadata": {},
   "outputs": [
    {
     "name": "stdout",
     "output_type": "stream",
     "text": [
      "amplitude_000.mat\n",
      "amplitude_001.mat\n",
      "amplitude_002.mat\n"
     ]
    }
   ],
   "source": [
    "def get_trajectory(file,x_or_y='y'):\n",
    "\n",
    "\n",
    "    data = loadmat(file)\n",
    "    rate=int(data['rate'])\n",
    "    rate=2**16\n",
    "    constants=data['constants'][0]\n",
    "    betax=np.abs(constants[2])\n",
    "    betay=np.abs(constants[3])\n",
    "    x=data['pos_x'][0]/betax\n",
    "    y=data['pos_y'][0]/betay\n",
    "    sumxy=data['pos_xy'][0]\n",
    "    x=x/sumxy\n",
    "    y=y/sumxy\n",
    "    N=len(data['pos_x'][0])\n",
    "    time=np.linspace(1/rate,N/rate,N)\n",
    "    del data,rate,constants,betax,betay,sumxy\n",
    "\n",
    "    if x_or_y=='y':\n",
    "        return [time,y]\n",
    "    else:\n",
    "        return [time,x]\n",
    "folder = r'\\\\134.76.13.158\\betzlab\\Julian\\fromTill\\b01\\passive'\n",
    "files = os.listdir(folder)\n",
    "files = [file for file in files if file.endswith('.mat')]\n",
    "for file in files:\n",
    "    print(file)\n",
    "    [time,trajectory]=get_trajectory((os.path.join(folder,file)),'x')\n",
    "    dt = time[1]-time[0]\n",
    "    f = 1/dt/1e3 # in kHz\n",
    "\n",
    "\n",
    "    np.save(\"tweezer\"+file[:-4]+f\"_x_{f:.0f}_kHz\", trajectory)\n",
    "    del time, trajectory\n",
    "#read the folder with the data\n",
    "#data = loadmat(os.path.join(folder,file))\n"
   ]
  }
 ],
 "metadata": {
  "kernelspec": {
   "display_name": "Python 3",
   "language": "python",
   "name": "python3"
  },
  "language_info": {
   "codemirror_mode": {
    "name": "ipython",
    "version": 3
   },
   "file_extension": ".py",
   "mimetype": "text/x-python",
   "name": "python",
   "nbconvert_exporter": "python",
   "pygments_lexer": "ipython3",
   "version": "3.11.6"
  }
 },
 "nbformat": 4,
 "nbformat_minor": 2
}
